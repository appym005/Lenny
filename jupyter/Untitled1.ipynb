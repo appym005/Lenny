{
 "cells": [
  {
   "cell_type": "code",
   "execution_count": 1,
   "id": "935e6735",
   "metadata": {},
   "outputs": [],
   "source": [
    "from duckduckpy import query"
   ]
  },
  {
   "cell_type": "code",
   "execution_count": 2,
   "id": "e2019275",
   "metadata": {},
   "outputs": [],
   "source": [
    "t = ''\n",
    "for i in \"google\":\n",
    "    if (i.lower() >= 'a' and i.lower() <= 'z') or (i.lower() >= '0' and i.lower() <= '9') or i == ' ':\n",
    "        t += i"
   ]
  },
  {
   "cell_type": "code",
   "execution_count": 3,
   "id": "b127d7df",
   "metadata": {},
   "outputs": [],
   "source": [
    "response = query(t, container='dict')"
   ]
  },
  {
   "cell_type": "code",
   "execution_count": 4,
   "id": "a9353de8",
   "metadata": {},
   "outputs": [
    {
     "data": {
      "text/plain": [
       "{'entity': '',\n",
       " 'abstract_source': 'Wikipedia',\n",
       " 'definition': '',\n",
       " 'answer': '',\n",
       " 'answer_type': '',\n",
       " 'image_is_logo': 0,\n",
       " 'type': 'D',\n",
       " 'redirect': '',\n",
       " 'infobox': '',\n",
       " 'results': [],\n",
       " 'abstract_url': 'https://en.wikipedia.org/wiki/Google_(disambiguation)',\n",
       " 'heading': 'Google',\n",
       " 'image_height': 0,\n",
       " 'abstract': '',\n",
       " 'definition_url': '',\n",
       " 'image': '',\n",
       " 'meta': {'attribution': None,\n",
       "  'blockgroup': None,\n",
       "  'created_date': None,\n",
       "  'description': 'Wikipedia',\n",
       "  'designer': None,\n",
       "  'dev_date': None,\n",
       "  'dev_milestone': 'live',\n",
       "  'developer': [{'name': 'DDG Team',\n",
       "    'type': 'ddg',\n",
       "    'url': 'http://www.duckduckhack.com'}],\n",
       "  'example_query': 'nikola tesla',\n",
       "  'id': 'wikipedia_fathead',\n",
       "  'is_stackexchange': None,\n",
       "  'js_callback_name': 'wikipedia',\n",
       "  'live_date': None,\n",
       "  'maintainer': {'github': 'duckduckgo'},\n",
       "  'name': 'Wikipedia',\n",
       "  'perl_module': 'DDG::Fathead::Wikipedia',\n",
       "  'producer': None,\n",
       "  'production_state': 'online',\n",
       "  'repo': 'fathead',\n",
       "  'signal_from': 'wikipedia_fathead',\n",
       "  'src_domain': 'en.wikipedia.org',\n",
       "  'src_id': 1,\n",
       "  'src_name': 'Wikipedia',\n",
       "  'src_options': {'directory': '',\n",
       "   'is_fanon': 0,\n",
       "   'is_mediawiki': 1,\n",
       "   'is_wikipedia': 1,\n",
       "   'language': 'en',\n",
       "   'min_abstract_length': '20',\n",
       "   'skip_abstract': 0,\n",
       "   'skip_abstract_paren': 0,\n",
       "   'skip_end': '0',\n",
       "   'skip_icon': 0,\n",
       "   'skip_image_name': 0,\n",
       "   'skip_qr': '',\n",
       "   'source_skip': '',\n",
       "   'src_info': ''},\n",
       "  'src_url': None,\n",
       "  'status': 'live',\n",
       "  'tab': 'About',\n",
       "  'topic': ['productivity'],\n",
       "  'unsafe': 0},\n",
       " 'abstract_text': '',\n",
       " 'image_width': 0,\n",
       " 'definition_source': '',\n",
       " 'related_topics': [{'text': 'Google An American multinational technology company that specializes in Internet-related services...',\n",
       "   'icon': {'width': '', 'url': '/i/8f85c93f.png', 'height': ''},\n",
       "   'result': '<a href=\"https://duckduckgo.com/Google\">Google</a> An American multinational technology company that specializes in Internet-related services...',\n",
       "   'first_url': 'https://duckduckgo.com/Google'},\n",
       "  {'text': 'Google Search A web search engine developed by Google.',\n",
       "   'icon': {'width': '', 'url': '/i/8f85c93f.png', 'height': ''},\n",
       "   'result': '<a href=\"https://duckduckgo.com/Google_Search\">Google Search</a>A web search engine developed by Google.',\n",
       "   'first_url': 'https://duckduckgo.com/Google_Search'},\n",
       "  {'text': 'Goggles Goggles, or safety glasses, are forms of protective eyewear that usually enclose or protect the...',\n",
       "   'icon': {'width': '', 'url': '/i/82de7b2a.jpg', 'height': ''},\n",
       "   'result': '<a href=\"https://duckduckgo.com/Goggles\">Goggles</a>Goggles, or safety glasses, are forms of protective eyewear that usually enclose or protect the...',\n",
       "   'first_url': 'https://duckduckgo.com/Goggles'},\n",
       "  {'topics': [{'text': 'Google (verb) Due to the dominance of the Google search engine, to google became a transitive verb.',\n",
       "     'icon': {'width': '', 'url': '', 'height': ''},\n",
       "     'result': '<a href=\"https://duckduckgo.com/Google_(verb)\">Google (verb)</a>Due to the dominance of the Google search engine, to google became a transitive verb.',\n",
       "     'first_url': 'https://duckduckgo.com/Google_(verb)'},\n",
       "    {'text': 'Google.org Google.org, founded in October 2005, is the charitable arm of Google, a multinational technology...',\n",
       "     'icon': {'width': '', 'url': '/i/a707b7ea.png', 'height': ''},\n",
       "     'result': '<a href=\"https://duckduckgo.com/Google.org\">Google.org</a>Google.org, founded in October 2005, is the charitable arm of Google, a multinational technology...',\n",
       "     'first_url': 'https://duckduckgo.com/Google.org'}],\n",
       "   'name': 'Google LLC'},\n",
       "  {'topics': [{'text': 'Googal, Devadurga A village in the Devadurga taluk of Raichur district in Karnataka state, India.',\n",
       "     'icon': {'width': '', 'url': '', 'height': ''},\n",
       "     'result': '<a href=\"https://duckduckgo.com/Googal%2C_Devadurga\">Googal, Devadurga</a>A village in the Devadurga taluk of Raichur district in Karnataka state, India.',\n",
       "     'first_url': 'https://duckduckgo.com/Googal%2C_Devadurga'}],\n",
       "   'name': 'Places'},\n",
       "  {'topics': [{'text': \"Goggles! Goggles! is a 1969 children's picture book by American author and illustrator Ezra Jack Keats...\",\n",
       "     'icon': {'width': '', 'url': '/i/d291493f.jpeg', 'height': ''},\n",
       "     'result': '<a href=\"https://duckduckgo.com/Goggles!\">Goggles!</a> Goggles! is a 1969 children\\'s picture book by American author and illustrator Ezra Jack Keats...',\n",
       "     'first_url': 'https://duckduckgo.com/Goggles!'},\n",
       "    {'text': 'Googol The large number 10¹⁰⁰.',\n",
       "     'icon': {'width': '', 'url': '', 'height': ''},\n",
       "     'result': '<a href=\"https://duckduckgo.com/Googol\">Googol</a>The large number 10¹⁰⁰.',\n",
       "     'first_url': 'https://duckduckgo.com/Googol'},\n",
       "    {'text': \"Gogol Meanings See related meanings for the word 'Gogol'.\",\n",
       "     'icon': {'width': '', 'url': '', 'height': ''},\n",
       "     'result': '<a href=\"https://duckduckgo.com/d/Gogol\">Gogol Meanings</a>  See related meanings for the word \\'Gogol\\'.',\n",
       "     'first_url': 'https://duckduckgo.com/d/Gogol'},\n",
       "    {'text': \"Googly Meanings See related meanings for the word 'Googly'.\",\n",
       "     'icon': {'width': '', 'url': '', 'height': ''},\n",
       "     'result': '<a href=\"https://duckduckgo.com/d/Googly\">Googly Meanings</a>  See related meanings for the word \\'Googly\\'.',\n",
       "     'first_url': 'https://duckduckgo.com/d/Googly'}],\n",
       "   'name': 'See also'}]}"
      ]
     },
     "execution_count": 4,
     "metadata": {},
     "output_type": "execute_result"
    }
   ],
   "source": [
    "response"
   ]
  },
  {
   "cell_type": "code",
   "execution_count": 5,
   "id": "c36790f8",
   "metadata": {},
   "outputs": [],
   "source": [
    "res = []\n",
    "for i in response['related_topics']:\n",
    "    try:\n",
    "        res.append(i)#['text'])\n",
    "    except:\n",
    "        pass"
   ]
  },
  {
   "cell_type": "code",
   "execution_count": 6,
   "id": "0f438182",
   "metadata": {},
   "outputs": [
    {
     "data": {
      "text/plain": [
       "[{'text': 'Google An American multinational technology company that specializes in Internet-related services...',\n",
       "  'icon': {'width': '', 'url': '/i/8f85c93f.png', 'height': ''},\n",
       "  'result': '<a href=\"https://duckduckgo.com/Google\">Google</a> An American multinational technology company that specializes in Internet-related services...',\n",
       "  'first_url': 'https://duckduckgo.com/Google'},\n",
       " {'text': 'Google Search A web search engine developed by Google.',\n",
       "  'icon': {'width': '', 'url': '/i/8f85c93f.png', 'height': ''},\n",
       "  'result': '<a href=\"https://duckduckgo.com/Google_Search\">Google Search</a>A web search engine developed by Google.',\n",
       "  'first_url': 'https://duckduckgo.com/Google_Search'},\n",
       " {'text': 'Goggles Goggles, or safety glasses, are forms of protective eyewear that usually enclose or protect the...',\n",
       "  'icon': {'width': '', 'url': '/i/82de7b2a.jpg', 'height': ''},\n",
       "  'result': '<a href=\"https://duckduckgo.com/Goggles\">Goggles</a>Goggles, or safety glasses, are forms of protective eyewear that usually enclose or protect the...',\n",
       "  'first_url': 'https://duckduckgo.com/Goggles'},\n",
       " {'topics': [{'text': 'Google (verb) Due to the dominance of the Google search engine, to google became a transitive verb.',\n",
       "    'icon': {'width': '', 'url': '', 'height': ''},\n",
       "    'result': '<a href=\"https://duckduckgo.com/Google_(verb)\">Google (verb)</a>Due to the dominance of the Google search engine, to google became a transitive verb.',\n",
       "    'first_url': 'https://duckduckgo.com/Google_(verb)'},\n",
       "   {'text': 'Google.org Google.org, founded in October 2005, is the charitable arm of Google, a multinational technology...',\n",
       "    'icon': {'width': '', 'url': '/i/a707b7ea.png', 'height': ''},\n",
       "    'result': '<a href=\"https://duckduckgo.com/Google.org\">Google.org</a>Google.org, founded in October 2005, is the charitable arm of Google, a multinational technology...',\n",
       "    'first_url': 'https://duckduckgo.com/Google.org'}],\n",
       "  'name': 'Google LLC'},\n",
       " {'topics': [{'text': 'Googal, Devadurga A village in the Devadurga taluk of Raichur district in Karnataka state, India.',\n",
       "    'icon': {'width': '', 'url': '', 'height': ''},\n",
       "    'result': '<a href=\"https://duckduckgo.com/Googal%2C_Devadurga\">Googal, Devadurga</a>A village in the Devadurga taluk of Raichur district in Karnataka state, India.',\n",
       "    'first_url': 'https://duckduckgo.com/Googal%2C_Devadurga'}],\n",
       "  'name': 'Places'},\n",
       " {'topics': [{'text': \"Goggles! Goggles! is a 1969 children's picture book by American author and illustrator Ezra Jack Keats...\",\n",
       "    'icon': {'width': '', 'url': '/i/d291493f.jpeg', 'height': ''},\n",
       "    'result': '<a href=\"https://duckduckgo.com/Goggles!\">Goggles!</a> Goggles! is a 1969 children\\'s picture book by American author and illustrator Ezra Jack Keats...',\n",
       "    'first_url': 'https://duckduckgo.com/Goggles!'},\n",
       "   {'text': 'Googol The large number 10¹⁰⁰.',\n",
       "    'icon': {'width': '', 'url': '', 'height': ''},\n",
       "    'result': '<a href=\"https://duckduckgo.com/Googol\">Googol</a>The large number 10¹⁰⁰.',\n",
       "    'first_url': 'https://duckduckgo.com/Googol'},\n",
       "   {'text': \"Gogol Meanings See related meanings for the word 'Gogol'.\",\n",
       "    'icon': {'width': '', 'url': '', 'height': ''},\n",
       "    'result': '<a href=\"https://duckduckgo.com/d/Gogol\">Gogol Meanings</a>  See related meanings for the word \\'Gogol\\'.',\n",
       "    'first_url': 'https://duckduckgo.com/d/Gogol'},\n",
       "   {'text': \"Googly Meanings See related meanings for the word 'Googly'.\",\n",
       "    'icon': {'width': '', 'url': '', 'height': ''},\n",
       "    'result': '<a href=\"https://duckduckgo.com/d/Googly\">Googly Meanings</a>  See related meanings for the word \\'Googly\\'.',\n",
       "    'first_url': 'https://duckduckgo.com/d/Googly'}],\n",
       "  'name': 'See also'}]"
      ]
     },
     "execution_count": 6,
     "metadata": {},
     "output_type": "execute_result"
    }
   ],
   "source": [
    "res"
   ]
  },
  {
   "cell_type": "code",
   "execution_count": 9,
   "id": "a108572b",
   "metadata": {},
   "outputs": [
    {
     "name": "stdout",
     "output_type": "stream",
     "text": [
      "Google An American multinational technology company that specializes in Internet-related services...\n",
      "Google Search A web search engine developed by Google.\n",
      "Goggles Goggles, or safety glasses, are forms of protective eyewear that usually enclose or protect the...\n",
      "Google (verb) Due to the dominance of the Google search engine, to google became a transitive verb.\n",
      "Google.org Google.org, founded in October 2005, is the charitable arm of Google, a multinational technology...\n",
      "Googal, Devadurga A village in the Devadurga taluk of Raichur district in Karnataka state, India.\n",
      "Goggles! Goggles! is a 1969 children's picture book by American author and illustrator Ezra Jack Keats...\n",
      "Googol The large number 10¹⁰⁰.\n",
      "Gogol Meanings See related meanings for the word 'Gogol'.\n",
      "Googly Meanings See related meanings for the word 'Googly'.\n"
     ]
    }
   ],
   "source": [
    "for i in res:\n",
    "    try:\n",
    "        print(i['text'])\n",
    "    except:\n",
    "        for j in i['topics']:\n",
    "            print(j['text'])"
   ]
  },
  {
   "cell_type": "code",
   "execution_count": null,
   "id": "a0c0caa0",
   "metadata": {},
   "outputs": [],
   "source": []
  }
 ],
 "metadata": {
  "kernelspec": {
   "display_name": "Python 3",
   "language": "python",
   "name": "python3"
  },
  "language_info": {
   "codemirror_mode": {
    "name": "ipython",
    "version": 3
   },
   "file_extension": ".py",
   "mimetype": "text/x-python",
   "name": "python",
   "nbconvert_exporter": "python",
   "pygments_lexer": "ipython3",
   "version": "3.8.6"
  }
 },
 "nbformat": 4,
 "nbformat_minor": 5
}
